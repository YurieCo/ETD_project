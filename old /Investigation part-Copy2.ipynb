{
 "cells": [
  {
   "cell_type": "code",
   "execution_count": 2,
   "metadata": {},
   "outputs": [],
   "source": [
    "import pandas as pd\n",
    "import numpy as np\n",
    "import matplotlib.pyplot as plt\n",
    "import seaborn as sns\n",
    "\n",
    "%matplotlib inline\n",
    "\n",
    "import warnings\n",
    "warnings.filterwarnings('ignore')"
   ]
  },
  {
   "cell_type": "code",
   "execution_count": 3,
   "metadata": {},
   "outputs": [],
   "source": [
    "def ecdf(data):\n",
    "    x = np.sort(data)\n",
    "    n = len(data)\n",
    "    y = np.arange(1, len(x)+1)/n\n",
    "    return x,y"
   ]
  },
  {
   "cell_type": "code",
   "execution_count": 4,
   "metadata": {},
   "outputs": [],
   "source": [
    "sellers_data = pd.read_csv('../input/olist_sellers_dataset.csv')\n",
    "product_cat = pd.read_csv('../input/product_category_name_translation.csv')\n",
    "orders_dataset = pd.read_csv('../input/olist_orders_dataset.csv')\n",
    "order_items_dataset = pd.read_csv('../input/olist_order_items_dataset.csv')\n",
    "customers_dataset = pd.read_csv('../input/olist_customers_dataset.csv')\n",
    "geolocation_dataset = pd.read_csv('../input/olist_geolocation_dataset.csv')\n",
    "order_payments_dataset = pd.read_csv('../input/olist_order_payments_dataset.csv')\n",
    "order_reviews_dataset = pd.read_csv('../input/olist_order_reviews_dataset.csv')\n",
    "products_dataset = pd.read_csv('../input/olist_products_dataset.csv')\n",
    "\n",
    "\n"
   ]
  },
  {
   "cell_type": "markdown",
   "metadata": {},
   "source": [
    "## Improve ETD accuracy"
   ]
  },
  {
   "cell_type": "markdown",
   "metadata": {},
   "source": [
    "Improving ETD can be interpreted as:\n",
    "    1. what is the states that has the lowest time delivery\n",
    "    2. How does current ETD estimator reflects the true behaviour "
   ]
  },
  {
   "cell_type": "code",
   "execution_count": 5,
   "metadata": {},
   "outputs": [],
   "source": [
    "df_all = pd.merge(orders_dataset, customers_dataset, on='customer_id')"
   ]
  },
  {
   "cell_type": "code",
   "execution_count": 6,
   "metadata": {},
   "outputs": [],
   "source": [
    "df_all['order_purchase_timestamp'] = pd.to_datetime(df_all.order_purchase_timestamp)"
   ]
  },
  {
   "cell_type": "code",
   "execution_count": 7,
   "metadata": {},
   "outputs": [],
   "source": [
    "clean_data = df_all.dropna()\n",
    "\n",
    "clean_data['order_approved_at'] = pd.to_datetime(clean_data.order_approved_at)\n",
    "clean_data['order_delivered_carrier_date'] = pd.to_datetime(clean_data.order_delivered_carrier_date)\n",
    "clean_data['order_delivered_customer_date'] = pd.to_datetime(clean_data.order_delivered_customer_date)\n",
    "clean_data['order_estimated_delivery_date'] = pd.to_datetime(clean_data.order_estimated_delivery_date)"
   ]
  },
  {
   "cell_type": "markdown",
   "metadata": {},
   "source": [
    "let's try to figure out how accuracy are the estimate time here. In order to verify it, we will use the delta, so that we can approximate the curve"
   ]
  },
  {
   "cell_type": "code",
   "execution_count": 23,
   "metadata": {},
   "outputs": [
    {
     "name": "stdout",
     "output_type": "stream",
     "text": [
      "max time taken to deliver an item is 208, while max time for estimate delivery is 153\n"
     ]
    }
   ],
   "source": [
    "clean_data['delta_ord_arrive_time'] = (clean_data.order_delivered_customer_date - clean_data.order_approved_at).dt.days\n",
    "clean_data['delta_est_ord_arrive_time'] = (clean_data.order_estimated_delivery_date - clean_data.order_approved_at).dt.days\n",
    "clean_data['delta_true_time_est_time'] = (clean_data.order_delivered_carrier_date - clean_data.order_estimated_delivery_date).dt.days\n",
    "print('max time taken to deliver an item is {}, while max time for estimate delivery is {}'.\\\n",
    "      format(clean_data.delta_ord_arrive_time.max(), clean_data.delta_est_ord_arrive_time.max()))"
   ]
  },
  {
   "cell_type": "code",
   "execution_count": 37,
   "metadata": {},
   "outputs": [
    {
     "data": {
      "image/png": "[encoded data removed]",
      "text/plain": [
       "<Figure size 432x288 with 1 Axes>"
      ]
     },
     "metadata": {
      "needs_background": "light"
     },
     "output_type": "display_data"
    }
   ],
   "source": [
    "states = clean_data.customer_state.unique().tolist()\n",
    "r = states[0]\n",
    "\n",
    "for s in states:\n",
    "    x, y = ecdf(clean_data[clean_data.customer_state == s].delta_ord_arrive_time.tolist())\n",
    "    plt.plot(x,y)\n",
    "\n",
    "# plt.legend(states)\n",
    "plt.title('ECDF')\n",
    "plt.show()"
   ]
  },
  {
   "cell_type": "code",
   "execution_count": null,
   "metadata": {},
   "outputs": [],
   "source": []
  },
  {
   "cell_type": "code",
   "execution_count": 42,
   "metadata": {},
   "outputs": [
    {
     "data": {
      "text/plain": [
       "136"
      ]
     },
     "execution_count": 42,
     "metadata": {},
     "output_type": "execute_result"
    }
   ],
   "source": [
    "sum(clean_data.delta_true_time_est_time == 0)"
   ]
  },
  {
   "cell_type": "code",
   "execution_count": 38,
   "metadata": {},
   "outputs": [
    {
     "data": {
      "text/html": [
       "<div>\n",
       "<style scoped>\n",
       "    .dataframe tbody tr th:only-of-type {\n",
       "        vertical-align: middle;\n",
       "    }\n",
       "\n",
       "    .dataframe tbody tr th {\n",
       "        vertical-align: top;\n",
       "    }\n",
       "\n",
       "    .dataframe thead th {\n",
       "        text-align: right;\n",
       "    }\n",
       "</style>\n",
       "<table border=\"1\" class=\"dataframe\">\n",
       "  <thead>\n",
       "    <tr style=\"text-align: right;\">\n",
       "      <th></th>\n",
       "      <th>customer_zip_code_prefix</th>\n",
       "      <th>delta_ord_arrive_time</th>\n",
       "      <th>delta_est_ord_arrive_time</th>\n",
       "      <th>delta_true_time_est_time</th>\n",
       "    </tr>\n",
       "  </thead>\n",
       "  <tbody>\n",
       "    <tr>\n",
       "      <th>customer_zip_code_prefix</th>\n",
       "      <td>1.000000</td>\n",
       "      <td>0.268596</td>\n",
       "      <td>0.375444</td>\n",
       "      <td>-0.376472</td>\n",
       "    </tr>\n",
       "    <tr>\n",
       "      <th>delta_ord_arrive_time</th>\n",
       "      <td>0.268596</td>\n",
       "      <td>1.000000</td>\n",
       "      <td>0.381099</td>\n",
       "      <td>-0.225127</td>\n",
       "    </tr>\n",
       "    <tr>\n",
       "      <th>delta_est_ord_arrive_time</th>\n",
       "      <td>0.375444</td>\n",
       "      <td>0.381099</td>\n",
       "      <td>1.000000</td>\n",
       "      <td>-0.917720</td>\n",
       "    </tr>\n",
       "    <tr>\n",
       "      <th>delta_true_time_est_time</th>\n",
       "      <td>-0.376472</td>\n",
       "      <td>-0.225127</td>\n",
       "      <td>-0.917720</td>\n",
       "      <td>1.000000</td>\n",
       "    </tr>\n",
       "  </tbody>\n",
       "</table>\n",
       "</div>"
      ],
      "text/plain": [
       "                           customer_zip_code_prefix  delta_ord_arrive_time  \\\n",
       "customer_zip_code_prefix                   1.000000               0.268596   \n",
       "delta_ord_arrive_time                      0.268596               1.000000   \n",
       "delta_est_ord_arrive_time                  0.375444               0.381099   \n",
       "delta_true_time_est_time                  -0.376472              -0.225127   \n",
       "\n",
       "                           delta_est_ord_arrive_time  delta_true_time_est_time  \n",
       "customer_zip_code_prefix                    0.375444                 -0.376472  \n",
       "delta_ord_arrive_time                       0.381099                 -0.225127  \n",
       "delta_est_ord_arrive_time                   1.000000                 -0.917720  \n",
       "delta_true_time_est_time                   -0.917720                  1.000000  "
      ]
     },
     "execution_count": 38,
     "metadata": {},
     "output_type": "execute_result"
    }
   ],
   "source": [
    "import holidays\n",
    "\n",
    "# holid = holidays()\n",
    "clean_data.corr()"
   ]
  },
  {
   "cell_type": "markdown",
   "metadata": {},
   "source": [
    "let's try to figure out on which year it has most orders. Here is is clear that"
   ]
  },
  {
   "cell_type": "code",
   "execution_count": 95,
   "metadata": {},
   "outputs": [
    {
     "data": {
      "image/png": "[encoded data removed]",
      "text/plain": [
       "<Figure size 432x288 with 1 Axes>"
      ]
     },
     "metadata": {
      "needs_background": "light"
     },
     "output_type": "display_data"
    }
   ],
   "source": [
    "years = clean_data.order_purchase_timestamp.dt.year.unique().tolist()\n",
    "\n",
    "\n",
    "orders_2018 = clean_data[clean_data.order_purchase_timestamp.dt.year == 2018]\n",
    "orders_2017 = clean_data[clean_data.order_purchase_timestamp.dt.year == 2017]\n",
    "orders_2016 = clean_data[clean_data.order_purchase_timestamp.dt.year == 2016]\n",
    "\n",
    "\n",
    "\n",
    "\n",
    "# x_2017, y_2017 = ecdf(np.log(orders_2017.order_purchase_days_of_year.tolist()))\n",
    "# x_2018, y_2018 = ecdf(np.log(orders_2018.order_purchase_days_of_year.tolist()))\n",
    "# x_2016, y_2016 = ecdf(np.log(orders_2016.order_purchase_days_of_year.tolist()))\n",
    "\n",
    "x_2017, y_2017 = ecdf(orders_2017.order_purchase_days_of_year.tolist())\n",
    "x_2018, y_2018 = ecdf(orders_2018.order_purchase_days_of_year.tolist())\n",
    "x_2016, y_2016 = ecdf(orders_2016.order_purchase_days_of_year.tolist())\n",
    "\n",
    "plt.plot(x_2016,y_2016, marker='.', linestyle='none')\n",
    "plt.plot(x_2017, y_2017, marker='.', linestyle='none')\n",
    "plt.plot(x_2018,y_2018, marker='.', linestyle='none')\n",
    "\n",
    "plt.show()\n"
   ]
  },
  {
   "cell_type": "markdown",
   "metadata": {},
   "source": [
    "##  Pick better fulfillment plans, better meaning \"faster\" or \"cheaper\"\n"
   ]
  },
  {
   "cell_type": "code",
   "execution_count": 1,
   "metadata": {},
   "outputs": [],
   "source": [
    "# code goes below\n",
    "# find the min of time which takes to an item to arrive"
   ]
  },
  {
   "cell_type": "markdown",
   "metadata": {},
   "source": [
    "## Improve conversion and maximize revenue by dynamically pricing premium delivery options for loyal customers"
   ]
  },
  {
   "cell_type": "code",
   "execution_count": 2,
   "metadata": {},
   "outputs": [],
   "source": [
    "# code goes below"
   ]
  },
  {
   "cell_type": "code",
   "execution_count": null,
   "metadata": {},
   "outputs": [],
   "source": []
  }
 ],
 "metadata": {
  "kernelspec": {
   "display_name": "Python 3",
   "language": "python",
   "name": "python3"
  },
  "language_info": {
   "codemirror_mode": {
    "name": "ipython",
    "version": 3
   },
   "file_extension": ".py",
   "mimetype": "text/x-python",
   "name": "python",
   "nbconvert_exporter": "python",
   "pygments_lexer": "ipython3",
   "version": "3.6.6"
  }
 },
 "nbformat": 4,
 "nbformat_minor": 2
}
