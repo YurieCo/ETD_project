{
 "cells": [
  {
   "cell_type": "code",
   "execution_count": 12,
   "metadata": {},
   "outputs": [],
   "source": [
    "import pandas as pd\n",
    "import numpy as np\n",
    "import matplotlib.pyplot as plt\n",
    "import seaborn as sns\n",
    "\n",
    "%matplotlib inline\n",
    "\n",
    "import warnings\n",
    "warnings.filterwarnings('ignore')"
   ]
  },
  {
   "cell_type": "code",
   "execution_count": 13,
   "metadata": {},
   "outputs": [],
   "source": [
    "pd.set_option('display.max_rows', 100)\n",
    "pd.set_option('display.max_columns', 100)\n",
    "pd.set_option('display.width', 1000)"
   ]
  },
  {
   "cell_type": "code",
   "execution_count": 14,
   "metadata": {},
   "outputs": [],
   "source": [
    "def ecdf(data):\n",
    "    x = np.sort(data)\n",
    "    n = len(data)\n",
    "    y = np.arange(1, len(x)+1)/n\n",
    "    return x,y\n",
    "\n",
    "def plot_ecdf(df):\n",
    "    ETD_orders = df.delta_est_ord_arrive_time.tolist()\n",
    "    True_EDT_orders = df.delta_ord_arrive_time.tolist()\n",
    "    model_ETD_orders = df.our_model_predict.tolist()\n",
    "    \n",
    "    x_est_ETD, y_est_ETD = ecdf(ETD_orders)\n",
    "    x_ETD, y_ETD = ecdf(True_EDT_orders)\n",
    "    x_model_ETD, y_model_ETD = ecdf(model_ETD_orders)\n",
    "    \n",
    "    _ = plt.plot(x_ETD, y_ETD)\n",
    "    _ = plt.plot(x_est_ETD, y_est_ETD)\n",
    "    _ = plt.plot(x_model_ETD, y_model_ETD)\n",
    "    _ = plt.title('for {}'.format(df.customer_state.tolist()[-1]))\n",
    "    _ = plt.legend(['True ETD', 'EST ETD', 'model ETD predict'])\n",
    "    \n",
    "    _ = plt.show()\n",
    "    \n",
    "\n",
    "    \n",
    "def draw_ecdf_models(df):\n",
    "    states = X_test.customer_state.unique().tolist()  \n",
    "\n",
    "    for s in states:\n",
    "        plot_ecdf(df[clean_data.customer_state == s])"
   ]
  },
  {
   "cell_type": "code",
   "execution_count": 15,
   "metadata": {},
   "outputs": [],
   "source": [
    "sellers_data = pd.read_csv('../input/olist_sellers_dataset.csv')\n",
    "product_cat = pd.read_csv('../input/product_category_name_translation.csv')\n",
    "orders_dataset = pd.read_csv('../input/olist_orders_dataset.csv')\n",
    "order_items_dataset = pd.read_csv('../input/olist_order_items_dataset.csv')\n",
    "customers_dataset = pd.read_csv('../input/olist_customers_dataset.csv')\n",
    "geolocation_dataset = pd.read_csv('../input/olist_geolocation_dataset.csv')\n",
    "order_payments_dataset = pd.read_csv('../input/olist_order_payments_dataset.csv')\n",
    "order_reviews_dataset = pd.read_csv('../input/olist_order_reviews_dataset.csv')\n",
    "products_dataset = pd.read_csv('../input/olist_products_dataset.csv')\n",
    "\n",
    "\n"
   ]
  },
  {
   "cell_type": "markdown",
   "metadata": {},
   "source": [
    "## Improve ETD accuracy"
   ]
  },
  {
   "cell_type": "markdown",
   "metadata": {},
   "source": [
    "Build model which predict for items withing range of 7 days. In order to do that we have to\n",
    "- assembly the part which is primary needed for prediction.\n",
    "- drop their prediction columns since it has a large shift.\n",
    "- drop Nan\n",
    "- drop any delivery with status canceled \n",
    "- drop any orders for which time taken to postal office is more than 7 days\n"
   ]
  },
  {
   "cell_type": "code",
   "execution_count": 16,
   "metadata": {},
   "outputs": [],
   "source": [
    "df_all = pd.merge(orders_dataset, customers_dataset, on='customer_id')\n",
    "df_all = pd.merge(order_items_dataset, df_all, on='order_id')"
   ]
  },
  {
   "cell_type": "code",
   "execution_count": 17,
   "metadata": {},
   "outputs": [],
   "source": [
    "if 'order_estimated_delivery_date' in df_all.columns:\n",
    "    df_all.drop(columns=['order_estimated_delivery_date'], inplace=True)"
   ]
  },
  {
   "cell_type": "code",
   "execution_count": 18,
   "metadata": {},
   "outputs": [],
   "source": [
    "df_all['order_purchase_timestamp'] = pd.to_datetime(df_all.order_purchase_timestamp)"
   ]
  },
  {
   "cell_type": "code",
   "execution_count": 19,
   "metadata": {},
   "outputs": [],
   "source": [
    "clean_data = df_all.dropna()\n",
    "clean_data = clean_data[clean_data.order_status == 'delivered']"
   ]
  },
  {
   "cell_type": "code",
   "execution_count": 20,
   "metadata": {},
   "outputs": [],
   "source": [
    "clean_data['shipping_limit_date'] = pd.to_datetime(clean_data.shipping_limit_date)\n",
    "clean_data['order_approved_at'] = pd.to_datetime(clean_data.order_approved_at)\n",
    "clean_data['order_delivered_carrier_date'] = pd.to_datetime(clean_data.order_delivered_carrier_date)\n",
    "clean_data['order_delivered_customer_date'] = pd.to_datetime(clean_data.order_delivered_customer_date)"
   ]
  },
  {
   "cell_type": "markdown",
   "metadata": {},
   "source": [
    "## the accuracy of the model has to be tested for following cases\n",
    "1. it has long approvment delay\n",
    "2. it has not long delay\n",
    "\n",
    "## Measure\n",
    "1. clean_data.order_delivered_carrier_date - clean_data.order_approved_at\n",
    "2. clean_data.order_delivered_carrier_date - clean_data.order_purchase_timestamp\n",
    "\n",
    "__order_purchase_timestamp__: Shows the purchase timestamp.\n",
    "\n",
    "__order_approved_at__: Shows the payment approval timestamp.\n",
    "\n",
    "__order_delivered_carrier_date__: Shows the order posting timestamp. When it was handled to the logistic partner.\n",
    "\n",
    "__order_delivered_customer_date__: Shows the actual order delivery date to the customer.\n",
    "\n"
   ]
  },
  {
   "cell_type": "code",
   "execution_count": 21,
   "metadata": {},
   "outputs": [],
   "source": [
    "week_perious = clean_data.order_delivered_carrier_date - clean_data.order_approved_at < pd.to_timedelta(\"8 day\")\n",
    "clean_data['since_approved_carried'] = (clean_data.order_delivered_carrier_date - clean_data.order_approved_at).dt.days\n",
    "clean_data['since_bought_carried'] = (clean_data.order_delivered_carrier_date - clean_data.order_purchase_timestamp).dt.days\n",
    "\n",
    "clean_data['since_approved_customer'] = (clean_data.order_delivered_customer_date - clean_data.order_approved_at).dt.days\n",
    "clean_data['since_bought_customer'] = (clean_data.order_delivered_customer_date - clean_data.order_purchase_timestamp).dt.days\n"
   ]
  },
  {
   "cell_type": "markdown",
   "metadata": {},
   "source": [
    "We would define the time internal as follows:\n",
    "\n",
    "   ```clean_data['since_bought_customer'] = (clean_data.order_delivered_customer_date - clean_data.order_purchase_timestamp).dt.days```\n",
    "   \n",
    "   \n",
    "and portion which we are interesting has upper limit 7 at order_delivered_customer_date\n",
    "    "
   ]
  },
  {
   "cell_type": "code",
   "execution_count": 22,
   "metadata": {},
   "outputs": [],
   "source": [
    "df = clean_data[clean_data.since_bought_customer < 8]"
   ]
  },
  {
   "cell_type": "code",
   "execution_count": 23,
   "metadata": {},
   "outputs": [
    {
     "data": {
      "text/plain": [
       "<matplotlib.axes._subplots.AxesSubplot at 0x1a1815ca20>"
      ]
     },
     "execution_count": 23,
     "metadata": {},
     "output_type": "execute_result"
    },
    {
     "data": {
      "image/png": "[encoded data removed]",
      "text/plain": [
       "<Figure size 432x288 with 1 Axes>"
      ]
     },
     "metadata": {
      "needs_background": "light"
     },
     "output_type": "display_data"
    }
   ],
   "source": [
    "df.since_bought_customer.hist()\n"
   ]
  },
  {
   "cell_type": "code",
   "execution_count": 67,
   "metadata": {},
   "outputs": [
    {
     "data": {
      "text/plain": [
       "count    38720.000000\n",
       "mean         4.477763\n",
       "std          1.885887\n",
       "min         -7.000000\n",
       "25%          3.000000\n",
       "50%          5.000000\n",
       "75%          6.000000\n",
       "max          7.000000\n",
       "Name: since_approved_customer, dtype: float64"
      ]
     },
     "execution_count": 67,
     "metadata": {},
     "output_type": "execute_result"
    }
   ],
   "source": [
    "df.since_approved_customer.describe()"
   ]
  },
  {
   "cell_type": "code",
   "execution_count": 69,
   "metadata": {},
   "outputs": [
    {
     "data": {
      "image/png": "[encoded data removed]",
      "text/plain": [
       "<Figure size 432x288 with 1 Axes>"
      ]
     },
     "metadata": {
      "needs_background": "light"
     },
     "output_type": "display_data"
    }
   ],
   "source": [
    "import statsmodels.api as sm\n",
    "import pylab\n",
    "\n",
    "sm.qqplot(df.since_approved_customer, loc = 4.803538, scale = 1.812803, line='s')\n",
    "pylab.show()"
   ]
  },
  {
   "cell_type": "markdown",
   "metadata": {},
   "source": [
    "Therefore this doesn't follow normal distribution pattern. We have to think about other feature.\n",
    "## building feature\n",
    "1. use the distance of seller till the geolocation of postal office\n",
    "2. pretrain network on DHL dataset then retrain it on this dataset\n"
   ]
  },
  {
   "cell_type": "code",
   "execution_count": 29,
   "metadata": {},
   "outputs": [
    {
     "data": {
      "text/plain": [
       "<matplotlib.axes._subplots.AxesSubplot at 0x1a16e1d6a0>"
      ]
     },
     "execution_count": 29,
     "metadata": {},
     "output_type": "execute_result"
    },
    {
     "data": {
      "image/png": "[encoded data removed]",
      "text/plain": [
       "<Figure size 432x288 with 1 Axes>"
      ]
     },
     "metadata": {
      "needs_background": "light"
     },
     "output_type": "display_data"
    }
   ],
   "source": [
    "df.since_bought_customer.hist()"
   ]
  },
  {
   "cell_type": "markdown",
   "metadata": {},
   "source": [
    "##  Pick better fulfillment plans, better meaning \"faster\" or \"cheaper\"\n"
   ]
  },
  {
   "cell_type": "code",
   "execution_count": 21,
   "metadata": {},
   "outputs": [],
   "source": [
    "# code goes below\n",
    "# find the min of time which takes to an item to arrive"
   ]
  },
  {
   "cell_type": "markdown",
   "metadata": {},
   "source": [
    "## Improve conversion and maximize revenue by dynamically pricing premium delivery options for loyal customers\n",
    "\n",
    "at least one of the following criteria might help\n",
    "1. Predict cancellation of an item before it has been shipped "
   ]
  },
  {
   "cell_type": "code",
   "execution_count": 22,
   "metadata": {},
   "outputs": [],
   "source": [
    "# code goes below\n"
   ]
  },
  {
   "cell_type": "code",
   "execution_count": 23,
   "metadata": {},
   "outputs": [],
   "source": [
    "# reference https://www.kaggle.com/lukio43/a-simple-analysis-of-delayed-orders\n",
    "# https://blog.postmates.com/estimating-delivery-times-a-case-study-in-practical-machine-learning-e70f677e736c\n",
    "# try to predict the optimal waiting time before an item has been shifted"
   ]
  }
 ],
 "metadata": {
  "kernelspec": {
   "display_name": "Python 3",
   "language": "python",
   "name": "python3"
  },
  "language_info": {
   "codemirror_mode": {
    "name": "ipython",
    "version": 3
   },
   "file_extension": ".py",
   "mimetype": "text/x-python",
   "name": "python",
   "nbconvert_exporter": "python",
   "pygments_lexer": "ipython3",
   "version": "3.6.8"
  }
 },
 "nbformat": 4,
 "nbformat_minor": 2
}
