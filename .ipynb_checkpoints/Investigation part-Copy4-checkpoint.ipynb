{
 "cells": [
  {
   "cell_type": "code",
   "execution_count": 1,
   "metadata": {},
   "outputs": [],
   "source": [
    "import pandas as pd\n",
    "import numpy as np\n",
    "import matplotlib.pyplot as plt\n",
    "import seaborn as sns\n",
    "\n",
    "%matplotlib inline\n",
    "\n",
    "import warnings\n",
    "warnings.filterwarnings('ignore')"
   ]
  },
  {
   "cell_type": "code",
   "execution_count": 2,
   "metadata": {},
   "outputs": [],
   "source": [
    "def ecdf(data):\n",
    "    x = np.sort(data)\n",
    "    n = len(data)\n",
    "    y = np.arange(1, len(x)+1)/n\n",
    "    return x,y\n",
    "\n",
    "def plot_ecdf(df):\n",
    "    ETD_orders = df.delta_est_ord_arrive_time.tolist()\n",
    "    True_EDT_orders = df.delta_ord_arrive_time.tolist()\n",
    "    model_ETD_orders = df.our_model_predict.tolist()\n",
    "    \n",
    "    x_est_ETD, y_est_ETD = ecdf(ETD_orders)\n",
    "    x_ETD, y_ETD = ecdf(True_EDT_orders)\n",
    "    x_model_ETD, y_model_ETD = ecdf(model_ETD_orders)\n",
    "    \n",
    "    _ = plt.plot(x_ETD, y_ETD)\n",
    "    _ = plt.plot(x_est_ETD, y_est_ETD)\n",
    "    _ = plt.plot(x_model_ETD, y_model_ETD)\n",
    "    _ = plt.title('for {}'.format(df.customer_state.tolist()[-1]))\n",
    "    _ = plt.legend(['True ETD', 'EST ETD', 'model ETD predict'])\n",
    "    \n",
    "    _ = plt.show()\n",
    "    \n",
    "\n",
    "    \n",
    "def draw_ecdf_models(df):\n",
    "    states = X_test.customer_state.unique().tolist()  \n",
    "\n",
    "    for s in states:\n",
    "        plot_ecdf(df[clean_data.customer_state == s])"
   ]
  },
  {
   "cell_type": "code",
   "execution_count": 3,
   "metadata": {},
   "outputs": [],
   "source": [
    "sellers_data = pd.read_csv('../input/olist_sellers_dataset.csv')\n",
    "product_cat = pd.read_csv('../input/product_category_name_translation.csv')\n",
    "orders_dataset = pd.read_csv('../input/olist_orders_dataset.csv')\n",
    "order_items_dataset = pd.read_csv('../input/olist_order_items_dataset.csv')\n",
    "customers_dataset = pd.read_csv('../input/olist_customers_dataset.csv')\n",
    "geolocation_dataset = pd.read_csv('../input/olist_geolocation_dataset.csv')\n",
    "order_payments_dataset = pd.read_csv('../input/olist_order_payments_dataset.csv')\n",
    "order_reviews_dataset = pd.read_csv('../input/olist_order_reviews_dataset.csv')\n",
    "products_dataset = pd.read_csv('../input/olist_products_dataset.csv')\n",
    "\n",
    "\n"
   ]
  },
  {
   "cell_type": "markdown",
   "metadata": {},
   "source": [
    "## Improve ETD accuracy"
   ]
  },
  {
   "cell_type": "markdown",
   "metadata": {},
   "source": [
    "Improving ETD can be interpreted as:\n",
    "    1. what is the states that has the lowest time delivery\n",
    "    2. How does current ETD estimator reflects the true behaviour "
   ]
  },
  {
   "cell_type": "code",
   "execution_count": 7,
   "metadata": {},
   "outputs": [],
   "source": [
    "df_all = pd.merge(orders_dataset, customers_dataset, on='customer_id')\n",
    "df_all = pd.merge(order_items_dataset, df_all, on='order_id')"
   ]
  },
  {
   "cell_type": "code",
   "execution_count": 8,
   "metadata": {},
   "outputs": [],
   "source": [
    "df_all['order_purchase_timestamp'] = pd.to_datetime(df_all.order_purchase_timestamp)"
   ]
  },
  {
   "cell_type": "code",
   "execution_count": 9,
   "metadata": {},
   "outputs": [],
   "source": [
    "clean_data = df_all.dropna()\n",
    "clean_data = clean_data[clean_data.order_status == 'delivered']\n",
    "\n",
    "clean_data['shipping_limit_date'] = pd.to_datetime(clean_data.shipping_limit_date)\n",
    "clean_data['order_approved_at'] = pd.to_datetime(clean_data.order_approved_at)\n",
    "clean_data['order_delivered_carrier_date'] = pd.to_datetime(clean_data.order_delivered_carrier_date)\n",
    "clean_data['order_delivered_customer_date'] = pd.to_datetime(clean_data.order_delivered_customer_date)\n",
    "clean_data['order_estimated_delivery_date'] = pd.to_datetime(clean_data.order_estimated_delivery_date)\n",
    "\n",
    "\n"
   ]
  },
  {
   "cell_type": "markdown",
   "metadata": {},
   "source": [
    "convert to date time"
   ]
  },
  {
   "cell_type": "code",
   "execution_count": 14,
   "metadata": {},
   "outputs": [
    {
     "ename": "SyntaxError",
     "evalue": "invalid syntax (<ipython-input-14-5e8fc4f57569>, line 3)",
     "output_type": "error",
     "traceback": [
      "\u001b[0;36m  File \u001b[0;32m\"<ipython-input-14-5e8fc4f57569>\"\u001b[0;36m, line \u001b[0;32m3\u001b[0m\n\u001b[0;31m    clean_data['delta_true_time_est_time'] = (clean_data.order_delivered_carrier_date - clean_data.order_estimated_delivery_date) pd.to_timedelta('7 day')\u001b[0m\n\u001b[0m                                                                                                                                   ^\u001b[0m\n\u001b[0;31mSyntaxError\u001b[0m\u001b[0;31m:\u001b[0m invalid syntax\n"
     ]
    }
   ],
   "source": [
    "clean_data['delta_ord_arrive_time'] = (clean_data.order_delivered_customer_date - clean_data.order_purchase_timestamp) - pd.to_timedelta('7 day')\n",
    "clean_data['delta_est_ord_arrive_time'] = (clean_data.order_estimated_delivery_date - clean_data.order_approved_at) - pd.to_timedelta('7 day')\n",
    "clean_data['delta_true_time_est_time'] = (clean_data.order_delivered_carrier_date - clean_data.order_estimated_delivery_date) pd.to_timedelta('7 day')\n",
    "\n"
   ]
  },
  {
   "cell_type": "code",
   "execution_count": null,
   "metadata": {},
   "outputs": [],
   "source": [
    "withing_aweek = clean_data [ clean_data.delta_ord_arrive_time.abs() < 8]"
   ]
  },
  {
   "cell_type": "code",
   "execution_count": 23,
   "metadata": {},
   "outputs": [
    {
     "data": {
      "image/png": "[encoded data removed]",
      "text/plain": [
       "<Figure size 432x288 with 2 Axes>"
      ]
     },
     "metadata": {
      "needs_background": "light"
     },
     "output_type": "display_data"
    }
   ],
   "source": [
    "ETD_orders = withing_aweek.delta_est_ord_arrive_time.tolist()\n",
    "True_EDT_orders = withing_aweek.delta_ord_arrive_time.tolist()\n",
    "\n",
    "plt.subplot(2,1,1)\n",
    "plt.title('Estimated ETD')\n",
    "plt.xlabel('Number of days')\n",
    "plt.ylabel('Number of occurency')\n",
    "plt.hist(ETD_orders, bins=max(True_EDT_orders))\n",
    "\n",
    "plt.subplot(2,1,2)\n",
    "plt.title('True ETD')\n",
    "plt.xlabel('Number of days')\n",
    "plt.ylabel('Number of occurency')\n",
    "plt.hist(True_EDT_orders, bins=max(True_EDT_orders))\n",
    "\n",
    "\n",
    "\n",
    "plt.show()"
   ]
  },
  {
   "cell_type": "markdown",
   "metadata": {},
   "source": [
    "how does the day of the week are affecting the result"
   ]
  },
  {
   "cell_type": "markdown",
   "metadata": {},
   "source": [
    "##  Pick better fulfillment plans, better meaning \"faster\" or \"cheaper\"\n"
   ]
  },
  {
   "cell_type": "code",
   "execution_count": 21,
   "metadata": {},
   "outputs": [],
   "source": [
    "# code goes below\n",
    "# find the min of time which takes to an item to arrive"
   ]
  },
  {
   "cell_type": "markdown",
   "metadata": {},
   "source": [
    "## Improve conversion and maximize revenue by dynamically pricing premium delivery options for loyal customers"
   ]
  },
  {
   "cell_type": "code",
   "execution_count": 22,
   "metadata": {},
   "outputs": [],
   "source": [
    "# code goes below"
   ]
  },
  {
   "cell_type": "code",
   "execution_count": 23,
   "metadata": {},
   "outputs": [],
   "source": [
    "# reference https://www.kaggle.com/lukio43/a-simple-analysis-of-delayed-orders\n",
    "# https://blog.postmates.com/estimating-delivery-times-a-case-study-in-practical-machine-learning-e70f677e736c"
   ]
  }
 ],
 "metadata": {
  "kernelspec": {
   "display_name": "Python 3",
   "language": "python",
   "name": "python3"
  },
  "language_info": {
   "codemirror_mode": {
    "name": "ipython",
    "version": 3
   },
   "file_extension": ".py",
   "mimetype": "text/x-python",
   "name": "python",
   "nbconvert_exporter": "python",
   "pygments_lexer": "ipython3",
   "version": "3.6.8"
  }
 },
 "nbformat": 4,
 "nbformat_minor": 2
}
